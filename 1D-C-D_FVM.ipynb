{
 "cells": [
  {
   "cell_type": "code",
   "execution_count": 1,
   "metadata": {},
   "outputs": [
    {
     "data": {
      "text/plain": [
       "'C:\\\\Users\\\\up332\\\\Desktop\\\\My Data'"
      ]
     },
     "execution_count": 1,
     "metadata": {},
     "output_type": "execute_result"
    }
   ],
   "source": [
    "import numpy as np\n",
    "import matplotlib.pyplot as plt\n",
    "import os\n",
    "os.getcwd()"
   ]
  },
  {
   "cell_type": "code",
   "execution_count": 127,
   "metadata": {},
   "outputs": [
    {
     "name": "stdout",
     "output_type": "stream",
     "text": [
      "0.2 7\n",
      "[-0.  -0.6 -0.6 -0.6 -0.6] [1.6 1.  1.  1.  1.4] [-0.4 -0.4 -0.4 -0.4 -0. ] [1.2 0.  0.  0.  0. ]\n"
     ]
    }
   ],
   "source": [
    "L = 1;\n",
    "x = np.linspace(0,1,6)\n",
    "n=len(x) +1\n",
    "h = x[1]-x[0]\n",
    "print (h,n)\n",
    "k = 0.1; #A = 0.01\n",
    "#a = k*A/h; sp = -2*a\n",
    "#print(a,sp)\n",
    "phin=np.zeros(n-2);phi=np.zeros(n-2); D = np.zeros(n); F = np.zeros(n);sp=np.zeros(n);su=np.zeros(n);aw=np.zeros(n);\n",
    "ae=np.zeros(n)\n",
    "u=0.2; \n",
    "phi[0]=1;phi[-1]=0; rho=1\n",
    "F=rho*u; D = k/h; #Fe=rho*u; Fw = rho*u;\n",
    "#De = k/h; Dw=k/h\n",
    "sp[1] = -((2*D)+F); sp[-2]=-((2*D)-F); su[1] = (2*D+F)*phi[0]; su[-2]=(2*D+F)*phi[-1]\n",
    "aw[:]=D +(F/2); ae[:] = D - (F/2); \n",
    "aw[1]=0;ae[-2]=0;#sp = -((2*D)+F)\n",
    "ap=aw+ae-sp\n",
    "#print(sp,su,aw,ae,F,D,ap)\n",
    "l=-aw[1:-1]; d= ap[1:-1]; u=-ae[1:-1]; b=su[1:-1]\n",
    "print(l,d,u,b)\n",
    "n1=n-2;\n",
    "phiA=1;phiB=0\n",
    "T=np.zeros(n-2)"
   ]
  },
  {
   "cell_type": "code",
   "execution_count": 128,
   "metadata": {},
   "outputs": [],
   "source": [
    "def tdma(l,d,u,b,n):\n",
    "    \n",
    "    g=np.zeros(n); h=np.zeros(n); sol=np.zeros(n);\n",
    "    g[0]=d[0]; h[0]=b[0]\n",
    "    for i in range(n):\n",
    "        if i>0:\n",
    "            g[i]=d[i]-l[i]*u[i-1]/g[i-1]\n",
    "            h[i]=b[i]-l[i]*h[i-1]/g[i-1]\n",
    "    sol[-1]=h[-1]/g[-1];\n",
    "    i=n-2\n",
    "    while i>=0:\n",
    "        \n",
    "        sol[i]=(h[i]-u[i]*sol[i+1])/g[i]\n",
    "        i-=1\n",
    "    #print('\\nsol is---\\n',sol)\n",
    "    \n",
    "    return(sol)"
   ]
  },
  {
   "cell_type": "code",
   "execution_count": 129,
   "metadata": {},
   "outputs": [
    {
     "name": "stdout",
     "output_type": "stream",
     "text": [
      "[0.96966825 0.87867299 0.74218009 0.53744076 0.23033175]\n"
     ]
    }
   ],
   "source": [
    "phi[:] = tdma(l,d,u,b,n1)                        \n",
    "print(phi)"
   ]
  },
  {
   "cell_type": "code",
   "execution_count": 139,
   "metadata": {},
   "outputs": [
    {
     "name": "stdout",
     "output_type": "stream",
     "text": [
      "[0.96534656 0.8713239  0.73105858 0.5218073  0.20964108]\n"
     ]
    }
   ],
   "source": [
    "#exact soln\n",
    "y=[0.2,0.6,1,1.4,1.8] \n",
    "x=[0.2,0.4,0.6,0.8,1]\n",
    "T = 1 - ( (np.exp((y)) - 1)/(np.exp(2) - 1) )\n",
    "#T = (2.7183 - np.exp(x))/1.7183\n",
    "print(T)"
   ]
  },
  {
   "cell_type": "code",
   "execution_count": 141,
   "metadata": {},
   "outputs": [
    {
     "data": {
      "text/plain": [
       "<matplotlib.legend.Legend at 0x227e2ed6f88>"
      ]
     },
     "execution_count": 141,
     "metadata": {},
     "output_type": "execute_result"
    },
    {
     "data": {
      "image/png": "[encoded data removed]",
      "text/plain": [
       "<Figure size 432x288 with 1 Axes>"
      ]
     },
     "metadata": {
      "needs_background": "light"
     },
     "output_type": "display_data"
    }
   ],
   "source": [
    "plt.plot(x,phi,label='Numerical Soln')\n",
    "plt.scatter(x,T,label='exact')\n",
    "plt.legend()"
   ]
  },
  {
   "cell_type": "code",
   "execution_count": null,
   "metadata": {},
   "outputs": [],
   "source": []
  },
  {
   "cell_type": "code",
   "execution_count": null,
   "metadata": {},
   "outputs": [],
   "source": []
  }
 ],
 "metadata": {
  "kernelspec": {
   "display_name": "Python 3",
   "language": "python",
   "name": "python3"
  },
  "language_info": {
   "codemirror_mode": {
    "name": "ipython",
    "version": 3
   },
   "file_extension": ".py",
   "mimetype": "text/x-python",
   "name": "python",
   "nbconvert_exporter": "python",
   "pygments_lexer": "ipython3",
   "version": "3.7.4"
  }
 },
 "nbformat": 4,
 "nbformat_minor": 2
}
